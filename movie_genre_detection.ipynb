{
 "cells": [
  {
   "cell_type": "markdown",
   "id": "d53d57e3",
   "metadata": {},
   "source": [
    "# Machine Learning - Decision Tree and Random Forest\n",
    "In this project we are to design a DT to predict type of a movie (Movie or TV Show)"
   ]
  },
  {
   "cell_type": "markdown",
   "id": "6a560ef2",
   "metadata": {},
   "source": [
    "First reading the csv file"
   ]
  },
  {
   "cell_type": "code",
   "execution_count": 1,
   "id": "3a8a9a47",
   "metadata": {},
   "outputs": [
    {
     "data": {
      "text/html": [
       "<div>\n",
       "<style scoped>\n",
       "    .dataframe tbody tr th:only-of-type {\n",
       "        vertical-align: middle;\n",
       "    }\n",
       "\n",
       "    .dataframe tbody tr th {\n",
       "        vertical-align: top;\n",
       "    }\n",
       "\n",
       "    .dataframe thead th {\n",
       "        text-align: right;\n",
       "    }\n",
       "</style>\n",
       "<table border=\"1\" class=\"dataframe\">\n",
       "  <thead>\n",
       "    <tr style=\"text-align: right;\">\n",
       "      <th></th>\n",
       "      <th>type</th>\n",
       "      <th>title</th>\n",
       "      <th>cast</th>\n",
       "      <th>country</th>\n",
       "      <th>release_year</th>\n",
       "      <th>listed_in</th>\n",
       "      <th>description</th>\n",
       "    </tr>\n",
       "  </thead>\n",
       "  <tbody>\n",
       "    <tr>\n",
       "      <th>0</th>\n",
       "      <td>Movie</td>\n",
       "      <td>Dick Johnson Is Dead</td>\n",
       "      <td>NaN</td>\n",
       "      <td>United States</td>\n",
       "      <td>2020</td>\n",
       "      <td>Documentaries</td>\n",
       "      <td>As her father nears the end of his life, filmm...</td>\n",
       "    </tr>\n",
       "    <tr>\n",
       "      <th>1</th>\n",
       "      <td>TV Show</td>\n",
       "      <td>Blood &amp; Water</td>\n",
       "      <td>Ama Qamata, Khosi Ngema, Gail Mabalane, Thaban...</td>\n",
       "      <td>South Africa</td>\n",
       "      <td>2021</td>\n",
       "      <td>International TV Shows, TV Dramas, TV Mysteries</td>\n",
       "      <td>After crossing paths at a party, a Cape Town t...</td>\n",
       "    </tr>\n",
       "    <tr>\n",
       "      <th>2</th>\n",
       "      <td>TV Show</td>\n",
       "      <td>Ganglands</td>\n",
       "      <td>Sami Bouajila, Tracy Gotoas, Samuel Jouy, Nabi...</td>\n",
       "      <td>NaN</td>\n",
       "      <td>2021</td>\n",
       "      <td>Crime TV Shows, International TV Shows, TV Act...</td>\n",
       "      <td>To protect his family from a powerful drug lor...</td>\n",
       "    </tr>\n",
       "    <tr>\n",
       "      <th>3</th>\n",
       "      <td>TV Show</td>\n",
       "      <td>Jailbirds New Orleans</td>\n",
       "      <td>NaN</td>\n",
       "      <td>NaN</td>\n",
       "      <td>2021</td>\n",
       "      <td>Docuseries, Reality TV</td>\n",
       "      <td>Feuds, flirtations and toilet talk go down amo...</td>\n",
       "    </tr>\n",
       "    <tr>\n",
       "      <th>4</th>\n",
       "      <td>TV Show</td>\n",
       "      <td>Kota Factory</td>\n",
       "      <td>Mayur More, Jitendra Kumar, Ranjan Raj, Alam K...</td>\n",
       "      <td>India</td>\n",
       "      <td>2021</td>\n",
       "      <td>International TV Shows, Romantic TV Shows, TV ...</td>\n",
       "      <td>In a city of coaching centers known to train I...</td>\n",
       "    </tr>\n",
       "  </tbody>\n",
       "</table>\n",
       "</div>"
      ],
      "text/plain": [
       "      type                  title  \\\n",
       "0    Movie   Dick Johnson Is Dead   \n",
       "1  TV Show          Blood & Water   \n",
       "2  TV Show              Ganglands   \n",
       "3  TV Show  Jailbirds New Orleans   \n",
       "4  TV Show           Kota Factory   \n",
       "\n",
       "                                                cast        country  \\\n",
       "0                                                NaN  United States   \n",
       "1  Ama Qamata, Khosi Ngema, Gail Mabalane, Thaban...   South Africa   \n",
       "2  Sami Bouajila, Tracy Gotoas, Samuel Jouy, Nabi...            NaN   \n",
       "3                                                NaN            NaN   \n",
       "4  Mayur More, Jitendra Kumar, Ranjan Raj, Alam K...          India   \n",
       "\n",
       "   release_year                                          listed_in  \\\n",
       "0          2020                                      Documentaries   \n",
       "1          2021    International TV Shows, TV Dramas, TV Mysteries   \n",
       "2          2021  Crime TV Shows, International TV Shows, TV Act...   \n",
       "3          2021                             Docuseries, Reality TV   \n",
       "4          2021  International TV Shows, Romantic TV Shows, TV ...   \n",
       "\n",
       "                                         description  \n",
       "0  As her father nears the end of his life, filmm...  \n",
       "1  After crossing paths at a party, a Cape Town t...  \n",
       "2  To protect his family from a powerful drug lor...  \n",
       "3  Feuds, flirtations and toilet talk go down amo...  \n",
       "4  In a city of coaching centers known to train I...  "
      ]
     },
     "execution_count": 1,
     "metadata": {},
     "output_type": "execute_result"
    }
   ],
   "source": [
    "import pandas as pd\n",
    "df = pd.read_csv('dataset.csv')\n",
    "df.head()"
   ]
  },
  {
   "cell_type": "code",
   "execution_count": 2,
   "id": "54e16d9d",
   "metadata": {},
   "outputs": [
    {
     "name": "stdout",
     "output_type": "stream",
     "text": [
      "<class 'pandas.core.frame.DataFrame'>\n",
      "RangeIndex: 11059 entries, 0 to 11058\n",
      "Data columns (total 7 columns):\n",
      " #   Column        Non-Null Count  Dtype \n",
      "---  ------        --------------  ----- \n",
      " 0   type          11059 non-null  object\n",
      " 1   title         11059 non-null  object\n",
      " 2   cast          9694 non-null   object\n",
      " 3   country       8364 non-null   object\n",
      " 4   release_year  11059 non-null  int64 \n",
      " 5   listed_in     11059 non-null  object\n",
      " 6   description   11059 non-null  object\n",
      "dtypes: int64(1), object(6)\n",
      "memory usage: 604.9+ KB\n"
     ]
    }
   ],
   "source": [
    "df.info()"
   ]
  },
  {
   "cell_type": "code",
   "execution_count": 3,
   "id": "c55cccb3",
   "metadata": {},
   "outputs": [
    {
     "data": {
      "text/html": [
       "<div>\n",
       "<style scoped>\n",
       "    .dataframe tbody tr th:only-of-type {\n",
       "        vertical-align: middle;\n",
       "    }\n",
       "\n",
       "    .dataframe tbody tr th {\n",
       "        vertical-align: top;\n",
       "    }\n",
       "\n",
       "    .dataframe thead th {\n",
       "        text-align: right;\n",
       "    }\n",
       "</style>\n",
       "<table border=\"1\" class=\"dataframe\">\n",
       "  <thead>\n",
       "    <tr style=\"text-align: right;\">\n",
       "      <th></th>\n",
       "      <th>release_year</th>\n",
       "    </tr>\n",
       "  </thead>\n",
       "  <tbody>\n",
       "    <tr>\n",
       "      <th>count</th>\n",
       "      <td>11059.000000</td>\n",
       "    </tr>\n",
       "    <tr>\n",
       "      <th>mean</th>\n",
       "      <td>2014.209603</td>\n",
       "    </tr>\n",
       "    <tr>\n",
       "      <th>std</th>\n",
       "      <td>8.959517</td>\n",
       "    </tr>\n",
       "    <tr>\n",
       "      <th>min</th>\n",
       "      <td>1925.000000</td>\n",
       "    </tr>\n",
       "    <tr>\n",
       "      <th>25%</th>\n",
       "      <td>2013.000000</td>\n",
       "    </tr>\n",
       "    <tr>\n",
       "      <th>50%</th>\n",
       "      <td>2017.000000</td>\n",
       "    </tr>\n",
       "    <tr>\n",
       "      <th>75%</th>\n",
       "      <td>2019.000000</td>\n",
       "    </tr>\n",
       "    <tr>\n",
       "      <th>max</th>\n",
       "      <td>2021.000000</td>\n",
       "    </tr>\n",
       "  </tbody>\n",
       "</table>\n",
       "</div>"
      ],
      "text/plain": [
       "       release_year\n",
       "count  11059.000000\n",
       "mean    2014.209603\n",
       "std        8.959517\n",
       "min     1925.000000\n",
       "25%     2013.000000\n",
       "50%     2017.000000\n",
       "75%     2019.000000\n",
       "max     2021.000000"
      ]
     },
     "execution_count": 3,
     "metadata": {},
     "output_type": "execute_result"
    }
   ],
   "source": [
    "df.describe()"
   ]
  },
  {
   "cell_type": "markdown",
   "id": "64e69c4c",
   "metadata": {},
   "source": [
    "In cast and country columns we hanve some NaN "
   ]
  },
  {
   "cell_type": "code",
   "execution_count": 4,
   "id": "bdc7e050",
   "metadata": {},
   "outputs": [
    {
     "name": "stdout",
     "output_type": "stream",
     "text": [
      "type: 0.00 %\n",
      "title: 0.00 %\n",
      "cast: 12.34 %\n",
      "country: 24.37 %\n",
      "release_year: 0.00 %\n",
      "listed_in: 0.00 %\n",
      "description: 0.00 %\n"
     ]
    }
   ],
   "source": [
    "for c in df.columns:\n",
    "    p = df[c].isnull().sum()/df.shape[0] * 100\n",
    "    print(f\"{c}: {p:.2f} %\")"
   ]
  },
  {
   "cell_type": "markdown",
   "id": "67e60a6b",
   "metadata": {},
   "source": [
    "## Phase One: Preprocessing\n",
    "* First for handling missing data some common ways are:\n",
    "    1. Listwise Deletion\n",
    "    2. Average Imputation\n",
    "    3. Regression Substitution\n",
    "    4. Common-Point Imputation\n",
    "\n",
    "> In this problem for country i used `Common-Point Imputation` and for cast column i use `Listwise Deletion` \n",
    "\n",
    "* For Classified information we can use:  \n",
    "    1. One Hot Encoding\n",
    "    2. Label Encoding\n",
    "\n",
    "> For the part with the bag of words i use One Hot Encoding (1/0) and for `genre1` and `genre2` i use Label Encoding.\n",
    "\n",
    "* For handling `listed_in` column i brok that into two columns (As suggested), `genre1` and `genre2` "
   ]
  },
  {
   "cell_type": "code",
   "execution_count": 5,
   "id": "ca29a0ef",
   "metadata": {},
   "outputs": [
    {
     "data": {
      "text/html": [
       "<div>\n",
       "<style scoped>\n",
       "    .dataframe tbody tr th:only-of-type {\n",
       "        vertical-align: middle;\n",
       "    }\n",
       "\n",
       "    .dataframe tbody tr th {\n",
       "        vertical-align: top;\n",
       "    }\n",
       "\n",
       "    .dataframe thead th {\n",
       "        text-align: right;\n",
       "    }\n",
       "</style>\n",
       "<table border=\"1\" class=\"dataframe\">\n",
       "  <thead>\n",
       "    <tr style=\"text-align: right;\">\n",
       "      <th></th>\n",
       "      <th>type</th>\n",
       "      <th>title</th>\n",
       "      <th>cast</th>\n",
       "      <th>country</th>\n",
       "      <th>release_year</th>\n",
       "      <th>listed_in</th>\n",
       "      <th>description</th>\n",
       "      <th>genre1</th>\n",
       "      <th>genre2</th>\n",
       "    </tr>\n",
       "  </thead>\n",
       "  <tbody>\n",
       "    <tr>\n",
       "      <th>1</th>\n",
       "      <td>TV Show</td>\n",
       "      <td>Blood &amp; Water</td>\n",
       "      <td>Ama Qamata, Khosi Ngema, Gail Mabalane, Thaban...</td>\n",
       "      <td>South Africa</td>\n",
       "      <td>2021</td>\n",
       "      <td>International TV Shows, TV Dramas, TV Mysteries</td>\n",
       "      <td>After crossing paths at a party, a Cape Town t...</td>\n",
       "      <td>International TV Shows</td>\n",
       "      <td>TV Dramas</td>\n",
       "    </tr>\n",
       "    <tr>\n",
       "      <th>2</th>\n",
       "      <td>TV Show</td>\n",
       "      <td>Ganglands</td>\n",
       "      <td>Sami Bouajila, Tracy Gotoas, Samuel Jouy, Nabi...</td>\n",
       "      <td>United States</td>\n",
       "      <td>2021</td>\n",
       "      <td>Crime TV Shows, International TV Shows, TV Act...</td>\n",
       "      <td>To protect his family from a powerful drug lor...</td>\n",
       "      <td>Crime TV Shows</td>\n",
       "      <td>International TV Shows</td>\n",
       "    </tr>\n",
       "    <tr>\n",
       "      <th>4</th>\n",
       "      <td>TV Show</td>\n",
       "      <td>Kota Factory</td>\n",
       "      <td>Mayur More, Jitendra Kumar, Ranjan Raj, Alam K...</td>\n",
       "      <td>India</td>\n",
       "      <td>2021</td>\n",
       "      <td>International TV Shows, Romantic TV Shows, TV ...</td>\n",
       "      <td>In a city of coaching centers known to train I...</td>\n",
       "      <td>International TV Shows</td>\n",
       "      <td>Romantic TV Shows</td>\n",
       "    </tr>\n",
       "    <tr>\n",
       "      <th>5</th>\n",
       "      <td>TV Show</td>\n",
       "      <td>Midnight Mass</td>\n",
       "      <td>Kate Siegel, Zach Gilford, Hamish Linklater, H...</td>\n",
       "      <td>United States</td>\n",
       "      <td>2021</td>\n",
       "      <td>TV Dramas, TV Horror, TV Mysteries</td>\n",
       "      <td>The arrival of a charismatic young priest brin...</td>\n",
       "      <td>TV Dramas</td>\n",
       "      <td>TV Horror</td>\n",
       "    </tr>\n",
       "    <tr>\n",
       "      <th>6</th>\n",
       "      <td>Movie</td>\n",
       "      <td>My Little Pony: A New Generation</td>\n",
       "      <td>Vanessa Hudgens, Kimiko Glenn, James Marsden, ...</td>\n",
       "      <td>United States</td>\n",
       "      <td>2021</td>\n",
       "      <td>Children &amp; Family Movies</td>\n",
       "      <td>Equestria's divided. But a bright-eyed hero be...</td>\n",
       "      <td>Children &amp; Family Movies</td>\n",
       "      <td>None</td>\n",
       "    </tr>\n",
       "  </tbody>\n",
       "</table>\n",
       "</div>"
      ],
      "text/plain": [
       "      type                             title  \\\n",
       "1  TV Show                     Blood & Water   \n",
       "2  TV Show                         Ganglands   \n",
       "4  TV Show                      Kota Factory   \n",
       "5  TV Show                     Midnight Mass   \n",
       "6    Movie  My Little Pony: A New Generation   \n",
       "\n",
       "                                                cast        country  \\\n",
       "1  Ama Qamata, Khosi Ngema, Gail Mabalane, Thaban...   South Africa   \n",
       "2  Sami Bouajila, Tracy Gotoas, Samuel Jouy, Nabi...  United States   \n",
       "4  Mayur More, Jitendra Kumar, Ranjan Raj, Alam K...          India   \n",
       "5  Kate Siegel, Zach Gilford, Hamish Linklater, H...  United States   \n",
       "6  Vanessa Hudgens, Kimiko Glenn, James Marsden, ...  United States   \n",
       "\n",
       "   release_year                                          listed_in  \\\n",
       "1          2021    International TV Shows, TV Dramas, TV Mysteries   \n",
       "2          2021  Crime TV Shows, International TV Shows, TV Act...   \n",
       "4          2021  International TV Shows, Romantic TV Shows, TV ...   \n",
       "5          2021                 TV Dramas, TV Horror, TV Mysteries   \n",
       "6          2021                           Children & Family Movies   \n",
       "\n",
       "                                         description  \\\n",
       "1  After crossing paths at a party, a Cape Town t...   \n",
       "2  To protect his family from a powerful drug lor...   \n",
       "4  In a city of coaching centers known to train I...   \n",
       "5  The arrival of a charismatic young priest brin...   \n",
       "6  Equestria's divided. But a bright-eyed hero be...   \n",
       "\n",
       "                     genre1                   genre2  \n",
       "1    International TV Shows                TV Dramas  \n",
       "2            Crime TV Shows   International TV Shows  \n",
       "4    International TV Shows        Romantic TV Shows  \n",
       "5                 TV Dramas                TV Horror  \n",
       "6  Children & Family Movies                     None  "
      ]
     },
     "execution_count": 5,
     "metadata": {},
     "output_type": "execute_result"
    }
   ],
   "source": [
    "df['country'].fillna(df['country'].mode()[0], inplace=True)\n",
    "df.dropna(subset=['cast',],inplace=True)\n",
    "df['genre1'] = None\n",
    "df['genre2'] = None\n",
    "for index, row in df.iterrows():\n",
    "    l = row['listed_in'].split(',')\n",
    "    df.at[index, 'genre1'] = l[0]\n",
    "    if len(l) > 1:\n",
    "        df.at[index, 'genre2'] = l[1]\n",
    "df.head()"
   ]
  },
  {
   "cell_type": "markdown",
   "id": "d6ffd25f",
   "metadata": {},
   "source": [
    "### Extracting features from text\n",
    "I used `TfidVectorizer` to count words of **title, description and casts** columns.  \n",
    "\n",
    "Features:\n",
    "* Top 50 words of `description`\n",
    "* Top 20 words of `title`\n",
    "* Top 20 words of `cast` (top 20 actors)  \n",
    "* `genre1` and `genre2` (Label encoded)"
   ]
  },
  {
   "cell_type": "code",
   "execution_count": 6,
   "id": "f599bcd7",
   "metadata": {},
   "outputs": [],
   "source": [
    "from sklearn.feature_extraction.text import TfidfVectorizer\n",
    "dsc_vectorizer = TfidfVectorizer(analyzer='word', ngram_range=(1,2),\n",
    "                                 stop_words='english', max_features=50)\n",
    "title_vectorizer = TfidfVectorizer(analyzer='word', ngram_range=(1,1),\n",
    "                                   stop_words='english', max_features=20)\n",
    "cast_vectorizer = TfidfVectorizer(analyzer='word', ngram_range=(2,2),\n",
    "                                  stop_words='english', max_features=20)\n",
    "\n",
    "dsc_vectorized = dsc_vectorizer.fit_transform(df['description'])\n",
    "title_vectorized = title_vectorizer.fit_transform(df['title'])\n",
    "cast_vectorized = cast_vectorizer.fit_transform(df['cast'])"
   ]
  },
  {
   "cell_type": "code",
   "execution_count": 7,
   "id": "4b93711f",
   "metadata": {},
   "outputs": [],
   "source": [
    "dsc_features = pd.DataFrame(dsc_vectorized.toarray(),columns=dsc_vectorizer.get_feature_names_out())\n",
    "title_features = pd.DataFrame(title_vectorized.toarray(),\n",
    "                          columns=title_vectorizer.get_feature_names_out())\n",
    "cast_features = pd.DataFrame(cast_vectorized.toarray(),\n",
    "                             columns=cast_vectorizer.get_feature_names_out())"
   ]
  },
  {
   "cell_type": "markdown",
   "id": "58660c43",
   "metadata": {},
   "source": [
    "Now concatenating features and One Hot Encoded them"
   ]
  },
  {
   "cell_type": "code",
   "execution_count": 8,
   "id": "b09f6462",
   "metadata": {},
   "outputs": [
    {
     "data": {
      "text/html": [
       "<div>\n",
       "<style scoped>\n",
       "    .dataframe tbody tr th:only-of-type {\n",
       "        vertical-align: middle;\n",
       "    }\n",
       "\n",
       "    .dataframe tbody tr th {\n",
       "        vertical-align: top;\n",
       "    }\n",
       "\n",
       "    .dataframe thead th {\n",
       "        text-align: right;\n",
       "    }\n",
       "</style>\n",
       "<table border=\"1\" class=\"dataframe\">\n",
       "  <thead>\n",
       "    <tr style=\"text-align: right;\">\n",
       "      <th></th>\n",
       "      <th>best</th>\n",
       "      <th>city</th>\n",
       "      <th>comedy</th>\n",
       "      <th>daughter</th>\n",
       "      <th>day</th>\n",
       "      <th>death</th>\n",
       "      <th>documentary</th>\n",
       "      <th>family</th>\n",
       "      <th>father</th>\n",
       "      <th>finds</th>\n",
       "      <th>...</th>\n",
       "      <th>om puri</th>\n",
       "      <th>paresh rawal</th>\n",
       "      <th>rajesh kava</th>\n",
       "      <th>rukh khan</th>\n",
       "      <th>rupa bhimani</th>\n",
       "      <th>shah rukh</th>\n",
       "      <th>takahiro sakurai</th>\n",
       "      <th>tara strong</th>\n",
       "      <th>vincent tong</th>\n",
       "      <th>yuki kaji</th>\n",
       "    </tr>\n",
       "  </thead>\n",
       "  <tbody>\n",
       "    <tr>\n",
       "      <th>0</th>\n",
       "      <td>0.0</td>\n",
       "      <td>0.0</td>\n",
       "      <td>0.0</td>\n",
       "      <td>0.0</td>\n",
       "      <td>0.0</td>\n",
       "      <td>0.0</td>\n",
       "      <td>0.0</td>\n",
       "      <td>0.0</td>\n",
       "      <td>0.0</td>\n",
       "      <td>0.0</td>\n",
       "      <td>...</td>\n",
       "      <td>0.0</td>\n",
       "      <td>0.0</td>\n",
       "      <td>0.0</td>\n",
       "      <td>0.0</td>\n",
       "      <td>0.0</td>\n",
       "      <td>0.0</td>\n",
       "      <td>0.0</td>\n",
       "      <td>0.0</td>\n",
       "      <td>0.0</td>\n",
       "      <td>0.0</td>\n",
       "    </tr>\n",
       "    <tr>\n",
       "      <th>1</th>\n",
       "      <td>0.0</td>\n",
       "      <td>0.0</td>\n",
       "      <td>0.0</td>\n",
       "      <td>0.0</td>\n",
       "      <td>0.0</td>\n",
       "      <td>0.0</td>\n",
       "      <td>0.0</td>\n",
       "      <td>1.0</td>\n",
       "      <td>0.0</td>\n",
       "      <td>0.0</td>\n",
       "      <td>...</td>\n",
       "      <td>0.0</td>\n",
       "      <td>0.0</td>\n",
       "      <td>0.0</td>\n",
       "      <td>0.0</td>\n",
       "      <td>0.0</td>\n",
       "      <td>0.0</td>\n",
       "      <td>0.0</td>\n",
       "      <td>0.0</td>\n",
       "      <td>0.0</td>\n",
       "      <td>0.0</td>\n",
       "    </tr>\n",
       "    <tr>\n",
       "      <th>2</th>\n",
       "      <td>0.0</td>\n",
       "      <td>1.0</td>\n",
       "      <td>0.0</td>\n",
       "      <td>0.0</td>\n",
       "      <td>0.0</td>\n",
       "      <td>0.0</td>\n",
       "      <td>0.0</td>\n",
       "      <td>0.0</td>\n",
       "      <td>0.0</td>\n",
       "      <td>0.0</td>\n",
       "      <td>...</td>\n",
       "      <td>0.0</td>\n",
       "      <td>0.0</td>\n",
       "      <td>0.0</td>\n",
       "      <td>0.0</td>\n",
       "      <td>0.0</td>\n",
       "      <td>0.0</td>\n",
       "      <td>0.0</td>\n",
       "      <td>0.0</td>\n",
       "      <td>0.0</td>\n",
       "      <td>0.0</td>\n",
       "    </tr>\n",
       "    <tr>\n",
       "      <th>3</th>\n",
       "      <td>0.0</td>\n",
       "      <td>0.0</td>\n",
       "      <td>0.0</td>\n",
       "      <td>0.0</td>\n",
       "      <td>0.0</td>\n",
       "      <td>0.0</td>\n",
       "      <td>0.0</td>\n",
       "      <td>0.0</td>\n",
       "      <td>0.0</td>\n",
       "      <td>0.0</td>\n",
       "      <td>...</td>\n",
       "      <td>0.0</td>\n",
       "      <td>0.0</td>\n",
       "      <td>0.0</td>\n",
       "      <td>0.0</td>\n",
       "      <td>0.0</td>\n",
       "      <td>0.0</td>\n",
       "      <td>0.0</td>\n",
       "      <td>0.0</td>\n",
       "      <td>0.0</td>\n",
       "      <td>0.0</td>\n",
       "    </tr>\n",
       "    <tr>\n",
       "      <th>4</th>\n",
       "      <td>0.0</td>\n",
       "      <td>0.0</td>\n",
       "      <td>0.0</td>\n",
       "      <td>0.0</td>\n",
       "      <td>0.0</td>\n",
       "      <td>0.0</td>\n",
       "      <td>0.0</td>\n",
       "      <td>0.0</td>\n",
       "      <td>0.0</td>\n",
       "      <td>0.0</td>\n",
       "      <td>...</td>\n",
       "      <td>0.0</td>\n",
       "      <td>0.0</td>\n",
       "      <td>0.0</td>\n",
       "      <td>0.0</td>\n",
       "      <td>0.0</td>\n",
       "      <td>0.0</td>\n",
       "      <td>0.0</td>\n",
       "      <td>0.0</td>\n",
       "      <td>0.0</td>\n",
       "      <td>0.0</td>\n",
       "    </tr>\n",
       "    <tr>\n",
       "      <th>...</th>\n",
       "      <td>...</td>\n",
       "      <td>...</td>\n",
       "      <td>...</td>\n",
       "      <td>...</td>\n",
       "      <td>...</td>\n",
       "      <td>...</td>\n",
       "      <td>...</td>\n",
       "      <td>...</td>\n",
       "      <td>...</td>\n",
       "      <td>...</td>\n",
       "      <td>...</td>\n",
       "      <td>...</td>\n",
       "      <td>...</td>\n",
       "      <td>...</td>\n",
       "      <td>...</td>\n",
       "      <td>...</td>\n",
       "      <td>...</td>\n",
       "      <td>...</td>\n",
       "      <td>...</td>\n",
       "      <td>...</td>\n",
       "      <td>...</td>\n",
       "    </tr>\n",
       "    <tr>\n",
       "      <th>9689</th>\n",
       "      <td>0.0</td>\n",
       "      <td>0.0</td>\n",
       "      <td>0.0</td>\n",
       "      <td>0.0</td>\n",
       "      <td>0.0</td>\n",
       "      <td>0.0</td>\n",
       "      <td>0.0</td>\n",
       "      <td>0.0</td>\n",
       "      <td>0.0</td>\n",
       "      <td>0.0</td>\n",
       "      <td>...</td>\n",
       "      <td>0.0</td>\n",
       "      <td>0.0</td>\n",
       "      <td>0.0</td>\n",
       "      <td>0.0</td>\n",
       "      <td>0.0</td>\n",
       "      <td>0.0</td>\n",
       "      <td>0.0</td>\n",
       "      <td>0.0</td>\n",
       "      <td>0.0</td>\n",
       "      <td>0.0</td>\n",
       "    </tr>\n",
       "    <tr>\n",
       "      <th>9690</th>\n",
       "      <td>0.0</td>\n",
       "      <td>0.0</td>\n",
       "      <td>0.0</td>\n",
       "      <td>0.0</td>\n",
       "      <td>0.0</td>\n",
       "      <td>0.0</td>\n",
       "      <td>0.0</td>\n",
       "      <td>0.0</td>\n",
       "      <td>0.0</td>\n",
       "      <td>0.0</td>\n",
       "      <td>...</td>\n",
       "      <td>0.0</td>\n",
       "      <td>0.0</td>\n",
       "      <td>0.0</td>\n",
       "      <td>0.0</td>\n",
       "      <td>0.0</td>\n",
       "      <td>0.0</td>\n",
       "      <td>0.0</td>\n",
       "      <td>0.0</td>\n",
       "      <td>0.0</td>\n",
       "      <td>0.0</td>\n",
       "    </tr>\n",
       "    <tr>\n",
       "      <th>9691</th>\n",
       "      <td>0.0</td>\n",
       "      <td>0.0</td>\n",
       "      <td>0.0</td>\n",
       "      <td>0.0</td>\n",
       "      <td>0.0</td>\n",
       "      <td>0.0</td>\n",
       "      <td>0.0</td>\n",
       "      <td>0.0</td>\n",
       "      <td>0.0</td>\n",
       "      <td>0.0</td>\n",
       "      <td>...</td>\n",
       "      <td>0.0</td>\n",
       "      <td>0.0</td>\n",
       "      <td>0.0</td>\n",
       "      <td>0.0</td>\n",
       "      <td>0.0</td>\n",
       "      <td>0.0</td>\n",
       "      <td>0.0</td>\n",
       "      <td>0.0</td>\n",
       "      <td>0.0</td>\n",
       "      <td>0.0</td>\n",
       "    </tr>\n",
       "    <tr>\n",
       "      <th>9692</th>\n",
       "      <td>0.0</td>\n",
       "      <td>0.0</td>\n",
       "      <td>0.0</td>\n",
       "      <td>0.0</td>\n",
       "      <td>0.0</td>\n",
       "      <td>0.0</td>\n",
       "      <td>0.0</td>\n",
       "      <td>0.0</td>\n",
       "      <td>0.0</td>\n",
       "      <td>0.0</td>\n",
       "      <td>...</td>\n",
       "      <td>0.0</td>\n",
       "      <td>0.0</td>\n",
       "      <td>0.0</td>\n",
       "      <td>0.0</td>\n",
       "      <td>0.0</td>\n",
       "      <td>0.0</td>\n",
       "      <td>0.0</td>\n",
       "      <td>0.0</td>\n",
       "      <td>0.0</td>\n",
       "      <td>0.0</td>\n",
       "    </tr>\n",
       "    <tr>\n",
       "      <th>9693</th>\n",
       "      <td>0.0</td>\n",
       "      <td>0.0</td>\n",
       "      <td>0.0</td>\n",
       "      <td>0.0</td>\n",
       "      <td>0.0</td>\n",
       "      <td>0.0</td>\n",
       "      <td>0.0</td>\n",
       "      <td>0.0</td>\n",
       "      <td>0.0</td>\n",
       "      <td>0.0</td>\n",
       "      <td>...</td>\n",
       "      <td>0.0</td>\n",
       "      <td>0.0</td>\n",
       "      <td>0.0</td>\n",
       "      <td>0.0</td>\n",
       "      <td>0.0</td>\n",
       "      <td>0.0</td>\n",
       "      <td>0.0</td>\n",
       "      <td>0.0</td>\n",
       "      <td>0.0</td>\n",
       "      <td>0.0</td>\n",
       "    </tr>\n",
       "  </tbody>\n",
       "</table>\n",
       "<p>9694 rows × 90 columns</p>\n",
       "</div>"
      ],
      "text/plain": [
       "      best  city  comedy  daughter  day  death  documentary  family  father  \\\n",
       "0      0.0   0.0     0.0       0.0  0.0    0.0          0.0     0.0     0.0   \n",
       "1      0.0   0.0     0.0       0.0  0.0    0.0          0.0     1.0     0.0   \n",
       "2      0.0   1.0     0.0       0.0  0.0    0.0          0.0     0.0     0.0   \n",
       "3      0.0   0.0     0.0       0.0  0.0    0.0          0.0     0.0     0.0   \n",
       "4      0.0   0.0     0.0       0.0  0.0    0.0          0.0     0.0     0.0   \n",
       "...    ...   ...     ...       ...  ...    ...          ...     ...     ...   \n",
       "9689   0.0   0.0     0.0       0.0  0.0    0.0          0.0     0.0     0.0   \n",
       "9690   0.0   0.0     0.0       0.0  0.0    0.0          0.0     0.0     0.0   \n",
       "9691   0.0   0.0     0.0       0.0  0.0    0.0          0.0     0.0     0.0   \n",
       "9692   0.0   0.0     0.0       0.0  0.0    0.0          0.0     0.0     0.0   \n",
       "9693   0.0   0.0     0.0       0.0  0.0    0.0          0.0     0.0     0.0   \n",
       "\n",
       "      finds  ...  om puri  paresh rawal  rajesh kava  rukh khan  rupa bhimani  \\\n",
       "0       0.0  ...      0.0           0.0          0.0        0.0           0.0   \n",
       "1       0.0  ...      0.0           0.0          0.0        0.0           0.0   \n",
       "2       0.0  ...      0.0           0.0          0.0        0.0           0.0   \n",
       "3       0.0  ...      0.0           0.0          0.0        0.0           0.0   \n",
       "4       0.0  ...      0.0           0.0          0.0        0.0           0.0   \n",
       "...     ...  ...      ...           ...          ...        ...           ...   \n",
       "9689    0.0  ...      0.0           0.0          0.0        0.0           0.0   \n",
       "9690    0.0  ...      0.0           0.0          0.0        0.0           0.0   \n",
       "9691    0.0  ...      0.0           0.0          0.0        0.0           0.0   \n",
       "9692    0.0  ...      0.0           0.0          0.0        0.0           0.0   \n",
       "9693    0.0  ...      0.0           0.0          0.0        0.0           0.0   \n",
       "\n",
       "      shah rukh  takahiro sakurai  tara strong  vincent tong  yuki kaji  \n",
       "0           0.0               0.0          0.0           0.0        0.0  \n",
       "1           0.0               0.0          0.0           0.0        0.0  \n",
       "2           0.0               0.0          0.0           0.0        0.0  \n",
       "3           0.0               0.0          0.0           0.0        0.0  \n",
       "4           0.0               0.0          0.0           0.0        0.0  \n",
       "...         ...               ...          ...           ...        ...  \n",
       "9689        0.0               0.0          0.0           0.0        0.0  \n",
       "9690        0.0               0.0          0.0           0.0        0.0  \n",
       "9691        0.0               0.0          0.0           0.0        0.0  \n",
       "9692        0.0               0.0          0.0           0.0        0.0  \n",
       "9693        0.0               0.0          0.0           0.0        0.0  \n",
       "\n",
       "[9694 rows x 90 columns]"
      ]
     },
     "execution_count": 8,
     "metadata": {},
     "output_type": "execute_result"
    }
   ],
   "source": [
    "inputs = pd.concat([dsc_features, title_features, cast_features], axis=1)\n",
    "inputs[inputs > 0] = 1\n",
    "inputs"
   ]
  },
  {
   "cell_type": "markdown",
   "id": "10f1e115",
   "metadata": {},
   "source": [
    "Now add genre1 and genre2 and label encod them"
   ]
  },
  {
   "cell_type": "code",
   "execution_count": 9,
   "id": "e9a6d594",
   "metadata": {},
   "outputs": [
    {
     "data": {
      "text/html": [
       "<div>\n",
       "<style scoped>\n",
       "    .dataframe tbody tr th:only-of-type {\n",
       "        vertical-align: middle;\n",
       "    }\n",
       "\n",
       "    .dataframe tbody tr th {\n",
       "        vertical-align: top;\n",
       "    }\n",
       "\n",
       "    .dataframe thead th {\n",
       "        text-align: right;\n",
       "    }\n",
       "</style>\n",
       "<table border=\"1\" class=\"dataframe\">\n",
       "  <thead>\n",
       "    <tr style=\"text-align: right;\">\n",
       "      <th></th>\n",
       "      <th>best</th>\n",
       "      <th>city</th>\n",
       "      <th>comedy</th>\n",
       "      <th>daughter</th>\n",
       "      <th>day</th>\n",
       "      <th>death</th>\n",
       "      <th>documentary</th>\n",
       "      <th>family</th>\n",
       "      <th>father</th>\n",
       "      <th>finds</th>\n",
       "      <th>...</th>\n",
       "      <th>rajesh kava</th>\n",
       "      <th>rukh khan</th>\n",
       "      <th>rupa bhimani</th>\n",
       "      <th>shah rukh</th>\n",
       "      <th>takahiro sakurai</th>\n",
       "      <th>tara strong</th>\n",
       "      <th>vincent tong</th>\n",
       "      <th>yuki kaji</th>\n",
       "      <th>genre1</th>\n",
       "      <th>genre2</th>\n",
       "    </tr>\n",
       "  </thead>\n",
       "  <tbody>\n",
       "    <tr>\n",
       "      <th>0</th>\n",
       "      <td>0.0</td>\n",
       "      <td>0.0</td>\n",
       "      <td>0.0</td>\n",
       "      <td>0.0</td>\n",
       "      <td>0.0</td>\n",
       "      <td>0.0</td>\n",
       "      <td>0.0</td>\n",
       "      <td>0.0</td>\n",
       "      <td>0.0</td>\n",
       "      <td>0.0</td>\n",
       "      <td>...</td>\n",
       "      <td>0.0</td>\n",
       "      <td>0.0</td>\n",
       "      <td>0.0</td>\n",
       "      <td>0.0</td>\n",
       "      <td>0.0</td>\n",
       "      <td>0.0</td>\n",
       "      <td>0.0</td>\n",
       "      <td>0.0</td>\n",
       "      <td>36</td>\n",
       "      <td>62</td>\n",
       "    </tr>\n",
       "    <tr>\n",
       "      <th>1</th>\n",
       "      <td>0.0</td>\n",
       "      <td>0.0</td>\n",
       "      <td>0.0</td>\n",
       "      <td>0.0</td>\n",
       "      <td>0.0</td>\n",
       "      <td>0.0</td>\n",
       "      <td>0.0</td>\n",
       "      <td>1.0</td>\n",
       "      <td>0.0</td>\n",
       "      <td>0.0</td>\n",
       "      <td>...</td>\n",
       "      <td>0.0</td>\n",
       "      <td>0.0</td>\n",
       "      <td>0.0</td>\n",
       "      <td>0.0</td>\n",
       "      <td>0.0</td>\n",
       "      <td>0.0</td>\n",
       "      <td>0.0</td>\n",
       "      <td>0.0</td>\n",
       "      <td>20</td>\n",
       "      <td>33</td>\n",
       "    </tr>\n",
       "    <tr>\n",
       "      <th>2</th>\n",
       "      <td>0.0</td>\n",
       "      <td>1.0</td>\n",
       "      <td>0.0</td>\n",
       "      <td>0.0</td>\n",
       "      <td>0.0</td>\n",
       "      <td>0.0</td>\n",
       "      <td>0.0</td>\n",
       "      <td>0.0</td>\n",
       "      <td>0.0</td>\n",
       "      <td>0.0</td>\n",
       "      <td>...</td>\n",
       "      <td>0.0</td>\n",
       "      <td>0.0</td>\n",
       "      <td>0.0</td>\n",
       "      <td>0.0</td>\n",
       "      <td>0.0</td>\n",
       "      <td>0.0</td>\n",
       "      <td>0.0</td>\n",
       "      <td>0.0</td>\n",
       "      <td>36</td>\n",
       "      <td>48</td>\n",
       "    </tr>\n",
       "    <tr>\n",
       "      <th>3</th>\n",
       "      <td>0.0</td>\n",
       "      <td>0.0</td>\n",
       "      <td>0.0</td>\n",
       "      <td>0.0</td>\n",
       "      <td>0.0</td>\n",
       "      <td>0.0</td>\n",
       "      <td>0.0</td>\n",
       "      <td>0.0</td>\n",
       "      <td>0.0</td>\n",
       "      <td>0.0</td>\n",
       "      <td>...</td>\n",
       "      <td>0.0</td>\n",
       "      <td>0.0</td>\n",
       "      <td>0.0</td>\n",
       "      <td>0.0</td>\n",
       "      <td>0.0</td>\n",
       "      <td>0.0</td>\n",
       "      <td>0.0</td>\n",
       "      <td>0.0</td>\n",
       "      <td>62</td>\n",
       "      <td>63</td>\n",
       "    </tr>\n",
       "    <tr>\n",
       "      <th>4</th>\n",
       "      <td>0.0</td>\n",
       "      <td>0.0</td>\n",
       "      <td>0.0</td>\n",
       "      <td>0.0</td>\n",
       "      <td>0.0</td>\n",
       "      <td>0.0</td>\n",
       "      <td>0.0</td>\n",
       "      <td>0.0</td>\n",
       "      <td>0.0</td>\n",
       "      <td>0.0</td>\n",
       "      <td>...</td>\n",
       "      <td>0.0</td>\n",
       "      <td>0.0</td>\n",
       "      <td>0.0</td>\n",
       "      <td>0.0</td>\n",
       "      <td>0.0</td>\n",
       "      <td>0.0</td>\n",
       "      <td>0.0</td>\n",
       "      <td>0.0</td>\n",
       "      <td>14</td>\n",
       "      <td>73</td>\n",
       "    </tr>\n",
       "    <tr>\n",
       "      <th>...</th>\n",
       "      <td>...</td>\n",
       "      <td>...</td>\n",
       "      <td>...</td>\n",
       "      <td>...</td>\n",
       "      <td>...</td>\n",
       "      <td>...</td>\n",
       "      <td>...</td>\n",
       "      <td>...</td>\n",
       "      <td>...</td>\n",
       "      <td>...</td>\n",
       "      <td>...</td>\n",
       "      <td>...</td>\n",
       "      <td>...</td>\n",
       "      <td>...</td>\n",
       "      <td>...</td>\n",
       "      <td>...</td>\n",
       "      <td>...</td>\n",
       "      <td>...</td>\n",
       "      <td>...</td>\n",
       "      <td>...</td>\n",
       "      <td>...</td>\n",
       "    </tr>\n",
       "    <tr>\n",
       "      <th>9689</th>\n",
       "      <td>0.0</td>\n",
       "      <td>0.0</td>\n",
       "      <td>0.0</td>\n",
       "      <td>0.0</td>\n",
       "      <td>0.0</td>\n",
       "      <td>0.0</td>\n",
       "      <td>0.0</td>\n",
       "      <td>0.0</td>\n",
       "      <td>0.0</td>\n",
       "      <td>0.0</td>\n",
       "      <td>...</td>\n",
       "      <td>0.0</td>\n",
       "      <td>0.0</td>\n",
       "      <td>0.0</td>\n",
       "      <td>0.0</td>\n",
       "      <td>0.0</td>\n",
       "      <td>0.0</td>\n",
       "      <td>0.0</td>\n",
       "      <td>0.0</td>\n",
       "      <td>2</td>\n",
       "      <td>2</td>\n",
       "    </tr>\n",
       "    <tr>\n",
       "      <th>9690</th>\n",
       "      <td>0.0</td>\n",
       "      <td>0.0</td>\n",
       "      <td>0.0</td>\n",
       "      <td>0.0</td>\n",
       "      <td>0.0</td>\n",
       "      <td>0.0</td>\n",
       "      <td>0.0</td>\n",
       "      <td>0.0</td>\n",
       "      <td>0.0</td>\n",
       "      <td>0.0</td>\n",
       "      <td>...</td>\n",
       "      <td>0.0</td>\n",
       "      <td>0.0</td>\n",
       "      <td>0.0</td>\n",
       "      <td>0.0</td>\n",
       "      <td>0.0</td>\n",
       "      <td>0.0</td>\n",
       "      <td>0.0</td>\n",
       "      <td>0.0</td>\n",
       "      <td>18</td>\n",
       "      <td>13</td>\n",
       "    </tr>\n",
       "    <tr>\n",
       "      <th>9691</th>\n",
       "      <td>0.0</td>\n",
       "      <td>0.0</td>\n",
       "      <td>0.0</td>\n",
       "      <td>0.0</td>\n",
       "      <td>0.0</td>\n",
       "      <td>0.0</td>\n",
       "      <td>0.0</td>\n",
       "      <td>0.0</td>\n",
       "      <td>0.0</td>\n",
       "      <td>0.0</td>\n",
       "      <td>...</td>\n",
       "      <td>0.0</td>\n",
       "      <td>0.0</td>\n",
       "      <td>0.0</td>\n",
       "      <td>0.0</td>\n",
       "      <td>0.0</td>\n",
       "      <td>0.0</td>\n",
       "      <td>0.0</td>\n",
       "      <td>0.0</td>\n",
       "      <td>2</td>\n",
       "      <td>12</td>\n",
       "    </tr>\n",
       "    <tr>\n",
       "      <th>9692</th>\n",
       "      <td>0.0</td>\n",
       "      <td>0.0</td>\n",
       "      <td>0.0</td>\n",
       "      <td>0.0</td>\n",
       "      <td>0.0</td>\n",
       "      <td>0.0</td>\n",
       "      <td>0.0</td>\n",
       "      <td>0.0</td>\n",
       "      <td>0.0</td>\n",
       "      <td>0.0</td>\n",
       "      <td>...</td>\n",
       "      <td>0.0</td>\n",
       "      <td>0.0</td>\n",
       "      <td>0.0</td>\n",
       "      <td>0.0</td>\n",
       "      <td>0.0</td>\n",
       "      <td>0.0</td>\n",
       "      <td>0.0</td>\n",
       "      <td>0.0</td>\n",
       "      <td>2</td>\n",
       "      <td>12</td>\n",
       "    </tr>\n",
       "    <tr>\n",
       "      <th>9693</th>\n",
       "      <td>0.0</td>\n",
       "      <td>0.0</td>\n",
       "      <td>0.0</td>\n",
       "      <td>0.0</td>\n",
       "      <td>0.0</td>\n",
       "      <td>0.0</td>\n",
       "      <td>0.0</td>\n",
       "      <td>0.0</td>\n",
       "      <td>0.0</td>\n",
       "      <td>0.0</td>\n",
       "      <td>...</td>\n",
       "      <td>0.0</td>\n",
       "      <td>0.0</td>\n",
       "      <td>0.0</td>\n",
       "      <td>0.0</td>\n",
       "      <td>0.0</td>\n",
       "      <td>0.0</td>\n",
       "      <td>0.0</td>\n",
       "      <td>0.0</td>\n",
       "      <td>37</td>\n",
       "      <td>40</td>\n",
       "    </tr>\n",
       "  </tbody>\n",
       "</table>\n",
       "<p>9694 rows × 92 columns</p>\n",
       "</div>"
      ],
      "text/plain": [
       "      best  city  comedy  daughter  day  death  documentary  family  father  \\\n",
       "0      0.0   0.0     0.0       0.0  0.0    0.0          0.0     0.0     0.0   \n",
       "1      0.0   0.0     0.0       0.0  0.0    0.0          0.0     1.0     0.0   \n",
       "2      0.0   1.0     0.0       0.0  0.0    0.0          0.0     0.0     0.0   \n",
       "3      0.0   0.0     0.0       0.0  0.0    0.0          0.0     0.0     0.0   \n",
       "4      0.0   0.0     0.0       0.0  0.0    0.0          0.0     0.0     0.0   \n",
       "...    ...   ...     ...       ...  ...    ...          ...     ...     ...   \n",
       "9689   0.0   0.0     0.0       0.0  0.0    0.0          0.0     0.0     0.0   \n",
       "9690   0.0   0.0     0.0       0.0  0.0    0.0          0.0     0.0     0.0   \n",
       "9691   0.0   0.0     0.0       0.0  0.0    0.0          0.0     0.0     0.0   \n",
       "9692   0.0   0.0     0.0       0.0  0.0    0.0          0.0     0.0     0.0   \n",
       "9693   0.0   0.0     0.0       0.0  0.0    0.0          0.0     0.0     0.0   \n",
       "\n",
       "      finds  ...  rajesh kava  rukh khan  rupa bhimani  shah rukh  \\\n",
       "0       0.0  ...          0.0        0.0           0.0        0.0   \n",
       "1       0.0  ...          0.0        0.0           0.0        0.0   \n",
       "2       0.0  ...          0.0        0.0           0.0        0.0   \n",
       "3       0.0  ...          0.0        0.0           0.0        0.0   \n",
       "4       0.0  ...          0.0        0.0           0.0        0.0   \n",
       "...     ...  ...          ...        ...           ...        ...   \n",
       "9689    0.0  ...          0.0        0.0           0.0        0.0   \n",
       "9690    0.0  ...          0.0        0.0           0.0        0.0   \n",
       "9691    0.0  ...          0.0        0.0           0.0        0.0   \n",
       "9692    0.0  ...          0.0        0.0           0.0        0.0   \n",
       "9693    0.0  ...          0.0        0.0           0.0        0.0   \n",
       "\n",
       "      takahiro sakurai  tara strong  vincent tong  yuki kaji  genre1  genre2  \n",
       "0                  0.0          0.0           0.0        0.0      36      62  \n",
       "1                  0.0          0.0           0.0        0.0      20      33  \n",
       "2                  0.0          0.0           0.0        0.0      36      48  \n",
       "3                  0.0          0.0           0.0        0.0      62      63  \n",
       "4                  0.0          0.0           0.0        0.0      14      73  \n",
       "...                ...          ...           ...        ...     ...     ...  \n",
       "9689               0.0          0.0           0.0        0.0       2       2  \n",
       "9690               0.0          0.0           0.0        0.0      18      13  \n",
       "9691               0.0          0.0           0.0        0.0       2      12  \n",
       "9692               0.0          0.0           0.0        0.0       2      12  \n",
       "9693               0.0          0.0           0.0        0.0      37      40  \n",
       "\n",
       "[9694 rows x 92 columns]"
      ]
     },
     "execution_count": 9,
     "metadata": {},
     "output_type": "execute_result"
    }
   ],
   "source": [
    "from sklearn import preprocessing\n",
    "le_genre1 = preprocessing.LabelEncoder()\n",
    "le_genre2 = preprocessing.LabelEncoder()\n",
    "inputs['genre1'] = le_genre1.fit_transform(df['genre1'])\n",
    "inputs['genre2'] = le_genre2.fit_transform(df['genre2'])\n",
    "inputs"
   ]
  },
  {
   "cell_type": "markdown",
   "id": "5bafc9cd",
   "metadata": {},
   "source": [
    "## Phase Two: Prediction & Optimization\n",
    "First encode type column and create `target` array  "
   ]
  },
  {
   "cell_type": "code",
   "execution_count": 10,
   "id": "b3f2d6bc",
   "metadata": {},
   "outputs": [
    {
     "data": {
      "text/plain": [
       "array([1, 1, 1, ..., 1, 1, 1])"
      ]
     },
     "execution_count": 10,
     "metadata": {},
     "output_type": "execute_result"
    }
   ],
   "source": [
    "le_type = preprocessing.LabelEncoder()\n",
    "targets = le_type.fit_transform(df['type'])\n",
    "targets"
   ]
  },
  {
   "cell_type": "markdown",
   "id": "b3ae56de",
   "metadata": {},
   "source": [
    "Using `train_test_split` function to divide train and test  \n",
    "I split data such that 70% for training and 30% for testing "
   ]
  },
  {
   "cell_type": "code",
   "execution_count": 11,
   "id": "8789ac95",
   "metadata": {},
   "outputs": [
    {
     "name": "stdout",
     "output_type": "stream",
     "text": [
      "train_len:  6785 \n",
      "test_len:   2909\n"
     ]
    }
   ],
   "source": [
    "from sklearn.model_selection import train_test_split\n",
    "X_train, X_test, y_train, y_test = train_test_split(inputs, targets, test_size=0.3, random_state=40)\n",
    "print('train_len: ',X_train.shape[0],'\\ntest_len:  ',X_test.shape[0])\n",
    "# X_train.drop(['genre1', 'genre2'],axis=1, inplace=True)\n",
    "# X_test.drop(['genre1', 'genre2'],axis=1, inplace=True)"
   ]
  },
  {
   "cell_type": "markdown",
   "id": "f09e0c69",
   "metadata": {},
   "source": [
    "The accuracy is **99.6%**  \n",
    "Basically it's because high correlation between genre and type of the movie"
   ]
  },
  {
   "cell_type": "code",
   "execution_count": 12,
   "id": "970f74d4",
   "metadata": {},
   "outputs": [
    {
     "data": {
      "text/plain": [
       "0.9962186318322448"
      ]
     },
     "execution_count": 12,
     "metadata": {},
     "output_type": "execute_result"
    }
   ],
   "source": [
    "from sklearn import tree \n",
    "DT = tree.DecisionTreeClassifier(max_depth=10, criterion='entropy', min_samples_split=2)\n",
    "DT.fit(X_train, y_train)\n",
    "DT.score(X_test, y_test)"
   ]
  },
  {
   "cell_type": "markdown",
   "id": "0115c89b",
   "metadata": {},
   "source": [
    "Now spliting data, 98% for train"
   ]
  },
  {
   "cell_type": "code",
   "execution_count": 13,
   "id": "5a8501f6",
   "metadata": {},
   "outputs": [
    {
     "data": {
      "text/plain": [
       "0.9948453608247423"
      ]
     },
     "execution_count": 13,
     "metadata": {},
     "output_type": "execute_result"
    }
   ],
   "source": [
    "X_train, X_test, y_train, y_test = train_test_split(inputs, targets, test_size=0.02, random_state=40)\n",
    "DT2 = tree.DecisionTreeClassifier(max_depth=10, criterion='entropy', min_samples_split=2)\n",
    "DT2.fit(X_train, y_train)\n",
    "DT2.score(X_test, y_test)"
   ]
  },
  {
   "cell_type": "markdown",
   "id": "9e609182",
   "metadata": {},
   "source": [
    "Now spliting, 40 to 60"
   ]
  },
  {
   "cell_type": "code",
   "execution_count": 14,
   "id": "3e177177",
   "metadata": {},
   "outputs": [
    {
     "data": {
      "text/plain": [
       "0.9960460718583463"
      ]
     },
     "execution_count": 14,
     "metadata": {},
     "output_type": "execute_result"
    }
   ],
   "source": [
    "X_train, X_test, y_train, y_test = train_test_split(inputs, targets, test_size=0.6, random_state=40)\n",
    "DT3 = tree.DecisionTreeClassifier(max_depth=10, criterion='entropy', min_samples_split=2)\n",
    "DT3.fit(X_train, y_train)\n",
    "DT3.score(X_test, y_test)"
   ]
  },
  {
   "cell_type": "markdown",
   "id": "11f62270",
   "metadata": {},
   "source": [
    "> As we saw when we using 98% for the accuracy decreases  \n",
    "It's because of **Overfitting**"
   ]
  },
  {
   "cell_type": "markdown",
   "id": "3e85dc7b",
   "metadata": {},
   "source": [
    "### Confusion "
   ]
  },
  {
   "cell_type": "code",
   "execution_count": 15,
   "id": "e5fe7295",
   "metadata": {},
   "outputs": [],
   "source": [
    "y_predicted = DT.predict(X_test)"
   ]
  },
  {
   "cell_type": "code",
   "execution_count": 16,
   "id": "8218f9db",
   "metadata": {},
   "outputs": [],
   "source": [
    "from sklearn.metrics import confusion_matrix\n",
    "cm = confusion_matrix(y_test, y_predicted)"
   ]
  },
  {
   "cell_type": "code",
   "execution_count": 17,
   "id": "cfc5616b",
   "metadata": {},
   "outputs": [
    {
     "data": {
      "text/plain": [
       "Text(69.0, 0.5, 'Truth')"
      ]
     },
     "execution_count": 17,
     "metadata": {},
     "output_type": "execute_result"
    },
    {
     "data": {
      "image/png": "[encoded data removed]",
      "text/plain": [
       "<Figure size 720x504 with 2 Axes>"
      ]
     },
     "metadata": {
      "needs_background": "light"
     },
     "output_type": "display_data"
    }
   ],
   "source": [
    "import matplotlib.pyplot as plt\n",
    "import seaborn as sn\n",
    "plt.figure(figsize=(10, 7))\n",
    "sn.heatmap(cm, annot=True)\n",
    "plt.xlabel('Predicted')\n",
    "plt.ylabel('Truth')"
   ]
  },
  {
   "cell_type": "markdown",
   "id": "5db7789f",
   "metadata": {},
   "source": [
    "### GridSearch CSV\n",
    "Now using `GridSearchCV` function to find best `max_depth` and `min_samples_split` hyper parameter to get best output"
   ]
  },
  {
   "cell_type": "code",
   "execution_count": 18,
   "id": "0d638e71",
   "metadata": {},
   "outputs": [],
   "source": [
    "from sklearn.model_selection import GridSearchCV\n",
    "from sklearn.svm import SVR\n",
    "gsc = GridSearchCV(\n",
    "        estimator=tree.DecisionTreeClassifier(),\n",
    "        param_grid={\n",
    "            'max_depth':[4,5,6,7,8,9,10,11,12,15,20,30,40,50,70,90,120,150],\n",
    "            'min_samples_split':[4,5,6,7,8,9,10,11,12,15,20,30,40,50,70,90,120,150]\n",
    "        },\n",
    "        error_score='raise')\n",
    "grid_result = gsc.fit(X_train, y_train)\n",
    "best_param = grid_result.best_params_"
   ]
  },
  {
   "cell_type": "code",
   "execution_count": 19,
   "id": "858a763c",
   "metadata": {},
   "outputs": [
    {
     "name": "stdout",
     "output_type": "stream",
     "text": [
      "accuracy:  0.9948427024239299\n"
     ]
    },
    {
     "data": {
      "text/plain": [
       "{'max_depth': 90, 'min_samples_split': 5}"
      ]
     },
     "execution_count": 19,
     "metadata": {},
     "output_type": "execute_result"
    }
   ],
   "source": [
    "DT_best = tree.DecisionTreeClassifier(max_depth=best_param['max_depth'],\n",
    "                                      min_samples_split=best_param['min_samples_split'])\n",
    "DT_best.fit(X_train, y_train)\n",
    "print('accuracy: ', DT_best.score(X_test, y_test))\n",
    "best_param"
   ]
  },
  {
   "cell_type": "markdown",
   "id": "0e319893",
   "metadata": {},
   "source": [
    "checking effect of `max_depth` on accuracy  \n",
    "* For this part i droped the genre to see the transition better"
   ]
  },
  {
   "cell_type": "code",
   "execution_count": 20,
   "id": "abbed4f6",
   "metadata": {},
   "outputs": [],
   "source": [
    "X_train.drop(['genre1', 'genre2'],axis=1, inplace=True)\n",
    "X_test.drop(['genre1', 'genre2'],axis=1, inplace=True)"
   ]
  },
  {
   "cell_type": "code",
   "execution_count": 21,
   "id": "0d8dcc47",
   "metadata": {},
   "outputs": [
    {
     "data": {
      "text/plain": [
       "<matplotlib.legend.Legend at 0x7efefa02fa00>"
      ]
     },
     "execution_count": 21,
     "metadata": {},
     "output_type": "execute_result"
    },
    {
     "data": {
      "image/png": "[encoded data removed]",
      "text/plain": [
       "<Figure size 432x288 with 1 Axes>"
      ]
     },
     "metadata": {
      "needs_background": "light"
     },
     "output_type": "display_data"
    }
   ],
   "source": [
    "acc_test = []\n",
    "acc_train = []\n",
    "for i in range(1, 100, 5):\n",
    "    dt = tree.DecisionTreeClassifier(max_depth=i, criterion='entropy', min_samples_split=2)\n",
    "    dt.fit(X_train, y_train)\n",
    "    acc_test.append(dt.score(X_test, y_test))\n",
    "    acc_train.append(dt.score(X_train, y_train))\n",
    "plt.plot([i for i in range(1,100, 5)], acc_test)\n",
    "plt.plot([i for i in range(1,100, 5)], acc_train )\n",
    "plt.xlabel('max_depth')\n",
    "plt.ylabel('accuracy')\n",
    "plt.legend(['test', 'train'])"
   ]
  },
  {
   "cell_type": "markdown",
   "id": "2f2f1e2e",
   "metadata": {},
   "source": [
    "With max_depth 20 and min_samples_split equal to 8 we get 100% percent accuracy"
   ]
  },
  {
   "cell_type": "markdown",
   "id": "89983744",
   "metadata": {},
   "source": [
    "## Phase Three: Random Forest\n",
    "Now checking Random Forest method  \n",
    "two hyper parameter that i checked is `n_estimator` and `max_depth`:   \n",
    "\n",
    "* `n_estimator`: number of trees in the forest\n",
    "* `max_depth` : maximum depth of each tree"
   ]
  },
  {
   "cell_type": "code",
   "execution_count": 22,
   "id": "8dca406d",
   "metadata": {},
   "outputs": [
    {
     "data": {
      "text/plain": [
       "RandomForestClassifier(max_depth=30)"
      ]
     },
     "execution_count": 22,
     "metadata": {},
     "output_type": "execute_result"
    }
   ],
   "source": [
    "from sklearn.ensemble import RandomForestClassifier\n",
    "X_train, X_test, y_train, y_test = train_test_split(inputs, targets, test_size=0.3, random_state=40)\n",
    "RF = RandomForestClassifier(n_estimators=100, max_depth=30)\n",
    "RF.fit(X_train, y_train)"
   ]
  },
  {
   "cell_type": "markdown",
   "id": "e4e6c0bb",
   "metadata": {},
   "source": [
    "chekcing `n_estimator` hyper parameter"
   ]
  },
  {
   "cell_type": "code",
   "execution_count": 23,
   "id": "f554230c",
   "metadata": {},
   "outputs": [
    {
     "data": {
      "text/plain": [
       "[<matplotlib.lines.Line2D at 0x7efef88ad580>]"
      ]
     },
     "execution_count": 23,
     "metadata": {},
     "output_type": "execute_result"
    },
    {
     "data": {
      "image/png": "[encoded data removed]",
      "text/plain": [
       "<Figure size 432x288 with 1 Axes>"
      ]
     },
     "metadata": {
      "needs_background": "light"
     },
     "output_type": "display_data"
    }
   ],
   "source": [
    "acc = []\n",
    "for i in range(1, 100, 5):\n",
    "    rf = RandomForestClassifier(n_estimators=i)\n",
    "    rf.fit(X_train, y_train)\n",
    "    acc.append(rf.score(X_test, y_test))\n",
    "plt.plot([i for i in range(1, 100, 5)], acc)"
   ]
  },
  {
   "cell_type": "markdown",
   "id": "84be848a",
   "metadata": {},
   "source": [
    "checking `max_depth` changing"
   ]
  },
  {
   "cell_type": "code",
   "execution_count": 24,
   "id": "4bd74c7b",
   "metadata": {},
   "outputs": [
    {
     "data": {
      "text/plain": [
       "[<matplotlib.lines.Line2D at 0x7efef8889550>]"
      ]
     },
     "execution_count": 24,
     "metadata": {},
     "output_type": "execute_result"
    },
    {
     "data": {
      "image/png": "[encoded data removed]",
      "text/plain": [
       "<Figure size 432x288 with 1 Axes>"
      ]
     },
     "metadata": {
      "needs_background": "light"
     },
     "output_type": "display_data"
    }
   ],
   "source": [
    "acc = []\n",
    "for i in range(1, 100, 5):\n",
    "    rf = RandomForestClassifier(max_depth=i)\n",
    "    rf.fit(X_train, y_train)\n",
    "    acc.append(rf.score(X_test, y_test))\n",
    "plt.plot([i for i in range(1, 100 , 5)], acc)"
   ]
  },
  {
   "cell_type": "markdown",
   "id": "8f3e53bf",
   "metadata": {},
   "source": [
    "***\n",
    "* By Ali Ranjbari  \n",
    "* Computer Engineering  \n",
    "* University of Tehran"
   ]
  }
 ],
 "metadata": {
  "kernelspec": {
   "display_name": "Python 3 (ipykernel)",
   "language": "python",
   "name": "python3"
  },
  "language_info": {
   "codemirror_mode": {
    "name": "ipython",
    "version": 3
   },
   "file_extension": ".py",
   "mimetype": "text/x-python",
   "name": "python",
   "nbconvert_exporter": "python",
   "pygments_lexer": "ipython3",
   "version": "3.8.10"
  }
 },
 "nbformat": 4,
 "nbformat_minor": 5
}
